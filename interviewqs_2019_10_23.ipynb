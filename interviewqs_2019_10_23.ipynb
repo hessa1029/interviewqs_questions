{
 "cells": [
  {
   "cell_type": "markdown",
   "metadata": {},
   "source": [
    "# Calculate a moving average using Python\n",
    "\n",
    "You are given a list of numbers J and a single number p. Write a function to return the minimum and maximum averages of the sequences of p numbers in the list J."
   ]
  },
  {
   "cell_type": "code",
   "execution_count": 1,
   "metadata": {},
   "outputs": [],
   "source": [
    "# Array of numbers\n",
    "J = [4, 4, 4, 9, 10, 11, 12]\n",
    "# Length of sequences, p\n",
    "p = 3"
   ]
  },
  {
   "cell_type": "code",
   "execution_count": 2,
   "metadata": {},
   "outputs": [],
   "source": [
    "import numpy as np\n",
    "import pandas as pd"
   ]
  },
  {
   "cell_type": "code",
   "execution_count": 7,
   "metadata": {},
   "outputs": [
    {
     "name": "stdout",
     "output_type": "stream",
     "text": [
      "[4, 4, 4, 9, 10, 11, 12]\n"
     ]
    }
   ],
   "source": [
    "print(sorted(J))"
   ]
  },
  {
   "cell_type": "code",
   "execution_count": 14,
   "metadata": {},
   "outputs": [],
   "source": [
    "def moving_average(J, p):\n",
    "    min_p_avg = np.mean(sorted(J)[:p])\n",
    "    max_p_avg = np.mean(sorted(J, reverse=True)[:p])\n",
    "    print('Minimum average of {} results from list: {}'.format(p, min_p_avg))\n",
    "    print('Maximum average of {} results from list: {}'.format(p, max_p_avg))\n",
    "    return min_p_avg,max_p_avg"
   ]
  },
  {
   "cell_type": "code",
   "execution_count": 15,
   "metadata": {},
   "outputs": [
    {
     "name": "stdout",
     "output_type": "stream",
     "text": [
      "Minimum average of 3 results from list: 4.0\n",
      "Maximum average of 3 results from list: 11.0\n",
      "(4.0, 11.0)\n"
     ]
    }
   ],
   "source": [
    "print(moving_average(J,p))"
   ]
  },
  {
   "cell_type": "code",
   "execution_count": 16,
   "metadata": {},
   "outputs": [
    {
     "name": "stdout",
     "output_type": "stream",
     "text": [
      "Minimum average of 3 results from list: 2.0\n",
      "Maximum average of 3 results from list: 5.0\n",
      "(2.0, 5.0)\n",
      "Minimum average of 2 results from list: 4.0\n",
      "Maximum average of 2 results from list: 16.0\n",
      "(4.0, 16.0)\n"
     ]
    }
   ],
   "source": [
    "print(moving_average([1,2,3,4,5,6],3))\n",
    "print(moving_average([3,12,6,20,5],2))"
   ]
  },
  {
   "cell_type": "code",
   "execution_count": null,
   "metadata": {},
   "outputs": [],
   "source": []
  }
 ],
 "metadata": {
  "kernelspec": {
   "display_name": "Python 3",
   "language": "python",
   "name": "python3"
  },
  "language_info": {
   "codemirror_mode": {
    "name": "ipython",
    "version": 3
   },
   "file_extension": ".py",
   "mimetype": "text/x-python",
   "name": "python",
   "nbconvert_exporter": "python",
   "pygments_lexer": "ipython3",
   "version": "3.7.3"
  }
 },
 "nbformat": 4,
 "nbformat_minor": 2
}
