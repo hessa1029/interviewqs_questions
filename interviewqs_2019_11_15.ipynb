{
 "cells": [
  {
   "cell_type": "markdown",
   "metadata": {},
   "source": [
    "# Finding the value closest to 0\n",
    "\n",
    "Suppose you are given a list of Q 1D points. Write code to return the value in Q that is closest to value j."
   ]
  },
  {
   "cell_type": "code",
   "execution_count": 1,
   "metadata": {},
   "outputs": [],
   "source": [
    "import pandas as pd\n",
    "import numpy as np"
   ]
  },
  {
   "cell_type": "code",
   "execution_count": 23,
   "metadata": {},
   "outputs": [],
   "source": [
    "def nearest_to_zero(Q, j):\n",
    "    dist_dict = {}\n",
    "    for val in Q:\n",
    "        distance = abs(val - j)\n",
    "        if distance in dist_dict:\n",
    "            if val not in dist_dict[distance]:\n",
    "                dist_dict[distance].append(val)\n",
    "        else:\n",
    "            dist_dict[distance] = [val] * 1\n",
    "    print(dist_dict)\n",
    "    print(min(dist_dict))\n",
    "    return dist_dict[min(dist_dict)]"
   ]
  },
  {
   "cell_type": "code",
   "execution_count": 24,
   "metadata": {},
   "outputs": [
    {
     "name": "stdout",
     "output_type": "stream",
     "text": [
      "{1: [1, -1], 5: [-5], 2: [2, -2], 4: [4]}\n",
      "1\n"
     ]
    },
    {
     "data": {
      "text/plain": [
       "[1, -1]"
      ]
     },
     "execution_count": 24,
     "metadata": {},
     "output_type": "execute_result"
    }
   ],
   "source": [
    "Q = [1, -1, -5, 2, 4, -2, 1]\n",
    "j = 0\n",
    "nearest_to_zero(Q, j)"
   ]
  },
  {
   "cell_type": "code",
   "execution_count": null,
   "metadata": {},
   "outputs": [],
   "source": []
  }
 ],
 "metadata": {
  "kernelspec": {
   "display_name": "Python 3",
   "language": "python",
   "name": "python3"
  },
  "language_info": {
   "codemirror_mode": {
    "name": "ipython",
    "version": 3
   },
   "file_extension": ".py",
   "mimetype": "text/x-python",
   "name": "python",
   "nbconvert_exporter": "python",
   "pygments_lexer": "ipython3",
   "version": "3.7.3"
  }
 },
 "nbformat": 4,
 "nbformat_minor": 2
}
